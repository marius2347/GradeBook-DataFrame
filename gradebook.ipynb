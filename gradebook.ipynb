{
 "cells": [
  {
   "cell_type": "markdown",
   "source": [
    "<h1> GradeBook using Pandas </h1>"
   ],
   "metadata": {
    "collapsed": false
   },
   "id": "77cd71c11df1c8da"
  },
  {
   "cell_type": "markdown",
   "source": [
    "<h2 color=\"green\"> Creating table (DataFrame) with students </h2>"
   ],
   "metadata": {
    "collapsed": false
   },
   "id": "9b0c5a6d3995f507"
  },
  {
   "cell_type": "code",
   "execution_count": 161,
   "outputs": [
    {
     "data": {
      "text/plain": "    FirstName   LastName  Assignment  Test  Project  Presence  Final Grade\n0  firstname1  lastname1         4.0  51.0     32.0      31.0        118.0\n1  firstname2  lastname2        41.0  32.0      1.0       3.0         77.0\n2  firstname3  lastname3        41.0  32.0      1.0       2.0         76.0",
      "text/html": "<div>\n<style scoped>\n    .dataframe tbody tr th:only-of-type {\n        vertical-align: middle;\n    }\n\n    .dataframe tbody tr th {\n        vertical-align: top;\n    }\n\n    .dataframe thead th {\n        text-align: right;\n    }\n</style>\n<table border=\"1\" class=\"dataframe\">\n  <thead>\n    <tr style=\"text-align: right;\">\n      <th></th>\n      <th>FirstName</th>\n      <th>LastName</th>\n      <th>Assignment</th>\n      <th>Test</th>\n      <th>Project</th>\n      <th>Presence</th>\n      <th>Final Grade</th>\n    </tr>\n  </thead>\n  <tbody>\n    <tr>\n      <th>0</th>\n      <td>firstname1</td>\n      <td>lastname1</td>\n      <td>4.0</td>\n      <td>51.0</td>\n      <td>32.0</td>\n      <td>31.0</td>\n      <td>118.0</td>\n    </tr>\n    <tr>\n      <th>1</th>\n      <td>firstname2</td>\n      <td>lastname2</td>\n      <td>41.0</td>\n      <td>32.0</td>\n      <td>1.0</td>\n      <td>3.0</td>\n      <td>77.0</td>\n    </tr>\n    <tr>\n      <th>2</th>\n      <td>firstname3</td>\n      <td>lastname3</td>\n      <td>41.0</td>\n      <td>32.0</td>\n      <td>1.0</td>\n      <td>2.0</td>\n      <td>76.0</td>\n    </tr>\n  </tbody>\n</table>\n</div>"
     },
     "execution_count": 161,
     "metadata": {},
     "output_type": "execute_result"
    }
   ],
   "source": [
    "# importing libraries\n",
    "import pandas as pd\n",
    "import numpy as np\n",
    "\n",
    "# creating DataFrame & dictionaries\n",
    "dct = {\"FirstName\": [], \"LastName\": [], \"Assignment\": [], \"Test\": [], \"Project\": [], \"Presence\": [], \"Final Grade\": []}\n",
    "\n",
    "\n",
    "# input from user\n",
    "answer = \"yes\"\n",
    "while answer == \"yes\":\n",
    "    firstName = input(\"First Name of your student:\")\n",
    "    lastName = input(\"Last Name of your student:\")\n",
    "\n",
    "    dct[\"FirstName\"].append(firstName)\n",
    "    dct[\"LastName\"].append(lastName)\n",
    "    assignment = float(input(\"Assignment Grade:\"))\n",
    "    dct[\"Assignment\"].append(assignment)\n",
    "    test = float(input(\"Test Grade:\"))\n",
    "    dct[\"Test\"].append(test)\n",
    "    project = float(input(\"Project Grade:\"))\n",
    "    dct[\"Project\"].append(project)\n",
    "    presence = float(input(\"Presence Grade:\"))\n",
    "    dct[\"Presence\"].append(presence)\n",
    "    dct[\"Final Grade\"].append(float(assignment + test + project + presence))\n",
    "    answer = input(\"Do you want to continue? (Yes / No)\").lower()\n",
    "    \n",
    "# create the dataset\n",
    "df = pd.DataFrame(dct)\n",
    "\n",
    "# save it to csv file\n",
    "df.to_csv('grade-book.csv')\n",
    "\n",
    "# print it\n",
    "df"
   ],
   "metadata": {
    "collapsed": false,
    "ExecuteTime": {
     "end_time": "2023-11-11T22:38:23.602578064Z",
     "start_time": "2023-11-11T22:37:52.410709927Z"
    }
   },
   "id": "31f402ba30806d5b"
  },
  {
   "cell_type": "markdown",
   "source": [
    "<h2 color=\"green\"> Modify values from students</h2>"
   ],
   "metadata": {
    "collapsed": false
   },
   "id": "69c89668c0224a68"
  },
  {
   "cell_type": "code",
   "execution_count": 162,
   "outputs": [
    {
     "data": {
      "text/plain": "    FirstName   LastName  Assignment  Test  Project  Presence  Final Grade\n0  firstname1  lastname1         4.0  90.0     32.0      31.0        157.0\n1  firstname2  lastname2        41.0  32.0      1.0       3.0         77.0\n2  firstname3  lastname3        41.0  32.0      1.0       2.0         76.0",
      "text/html": "<div>\n<style scoped>\n    .dataframe tbody tr th:only-of-type {\n        vertical-align: middle;\n    }\n\n    .dataframe tbody tr th {\n        vertical-align: top;\n    }\n\n    .dataframe thead th {\n        text-align: right;\n    }\n</style>\n<table border=\"1\" class=\"dataframe\">\n  <thead>\n    <tr style=\"text-align: right;\">\n      <th></th>\n      <th>FirstName</th>\n      <th>LastName</th>\n      <th>Assignment</th>\n      <th>Test</th>\n      <th>Project</th>\n      <th>Presence</th>\n      <th>Final Grade</th>\n    </tr>\n  </thead>\n  <tbody>\n    <tr>\n      <th>0</th>\n      <td>firstname1</td>\n      <td>lastname1</td>\n      <td>4.0</td>\n      <td>90.0</td>\n      <td>32.0</td>\n      <td>31.0</td>\n      <td>157.0</td>\n    </tr>\n    <tr>\n      <th>1</th>\n      <td>firstname2</td>\n      <td>lastname2</td>\n      <td>41.0</td>\n      <td>32.0</td>\n      <td>1.0</td>\n      <td>3.0</td>\n      <td>77.0</td>\n    </tr>\n    <tr>\n      <th>2</th>\n      <td>firstname3</td>\n      <td>lastname3</td>\n      <td>41.0</td>\n      <td>32.0</td>\n      <td>1.0</td>\n      <td>2.0</td>\n      <td>76.0</td>\n    </tr>\n  </tbody>\n</table>\n</div>"
     },
     "execution_count": 162,
     "metadata": {},
     "output_type": "execute_result"
    }
   ],
   "source": [
    "# inputs from the user\n",
    "firstNameToModify = input(\"First Name of your student:\")\n",
    "lastNameToModify = input(\"Last Name of your student:\")\n",
    "columnToModify = input(\"Type the column to modify the value:\")\n",
    "\n",
    "# modify the columns values\n",
    "\n",
    "# assignment\n",
    "if columnToModify == \"Assignment\":\n",
    "    newAssignment = float(input(\"New Assignment Grade:\"))\n",
    "    df.loc[(df['FirstName'] == firstNameToModify) & (df['LastName'] == lastNameToModify), 'Assignment'] = newAssignment\n",
    "    \n",
    "    df.loc[(df['FirstName'] == firstNameToModify) & (df['LastName'] == lastNameToModify), 'Final Grade'] = df.loc[(df['FirstName'] == firstNameToModify) & (df['LastName'] == lastNameToModify), 'Assignment'] + df.loc[(df['FirstName'] == firstNameToModify) & (df['LastName'] == lastNameToModify), 'Test'] + df.loc[(df['FirstName'] == firstNameToModify) & (df['LastName'] == lastNameToModify), 'Project'] + df.loc[(df['FirstName'] == firstNameToModify) & (df['LastName'] == lastNameToModify), 'Presence'] \n",
    "\n",
    "# test\n",
    "if columnToModify == \"Test\":\n",
    "    newTest = float(input(\"New Test Grade:\"))\n",
    "    df.loc[(df['FirstName'] == firstNameToModify) & (df['LastName'] == lastNameToModify), 'Test'] = newTest\n",
    "    \n",
    "    df.loc[(df['FirstName'] == firstNameToModify) & (df['LastName'] == lastNameToModify), 'Final Grade'] = df.loc[(df['FirstName'] == firstNameToModify) & (df['LastName'] == lastNameToModify), 'Test'] + df.loc[(df['FirstName'] == firstNameToModify) & (df['LastName'] == lastNameToModify), 'Assignment'] + df.loc[(df['FirstName'] == firstNameToModify) & (df['LastName'] == lastNameToModify), 'Project'] + df.loc[(df['FirstName'] == firstNameToModify) & (df['LastName'] == lastNameToModify), 'Presence'] \n",
    "\n",
    "# project\n",
    "if columnToModify == \"Project\":\n",
    "    newProject = float(input(\"New Project Grade:\"))\n",
    "    df.loc[(df['FirstName'] == firstNameToModify) & (df['LastName'] == lastNameToModify), 'Project'] = newProject\n",
    "    \n",
    "    df.loc[(df['FirstName'] == firstNameToModify) & (df['LastName'] == lastNameToModify), 'Final Grade'] = df.loc[(df['FirstName'] == firstNameToModify) & (df['LastName'] == lastNameToModify), 'Test'] + df.loc[(df['FirstName'] == firstNameToModify) & (df['LastName'] == lastNameToModify), 'Assignment'] + df.loc[(df['FirstName'] == firstNameToModify) & (df['LastName'] == lastNameToModify), 'Project'] + df.loc[(df['FirstName'] == firstNameToModify) & (df['LastName'] == lastNameToModify), 'Presence'] \n",
    "\n",
    "# presence\n",
    "if columnToModify == \"Presence\":\n",
    "    newPresence = float(input(\"New Presence Grade:\"))\n",
    "    df.loc[(df['FirstName'] == firstNameToModify) & (df['LastName'] == lastNameToModify), 'Presence'] = newPresence\n",
    "    \n",
    "    df.loc[(df['FirstName'] == firstNameToModify) & (df['LastName'] == lastNameToModify), 'Final Grade'] = df.loc[(df['FirstName'] == firstNameToModify) & (df['LastName'] == lastNameToModify), 'Test'] + df.loc[(df['FirstName'] == firstNameToModify) & (df['LastName'] == lastNameToModify), 'Assignment'] + df.loc[(df['FirstName'] == firstNameToModify) & (df['LastName'] == lastNameToModify), 'Project'] + df.loc[(df['FirstName'] == firstNameToModify) & (df['LastName'] == lastNameToModify), 'Presence'] \n",
    "\n",
    "# print it\n",
    "df"
   ],
   "metadata": {
    "collapsed": false,
    "ExecuteTime": {
     "end_time": "2023-11-11T22:38:39.579078131Z",
     "start_time": "2023-11-11T22:38:23.585283920Z"
    }
   },
   "id": "d7372da1c064c4e1"
  },
  {
   "cell_type": "markdown",
   "source": [
    "<h2 color=\"green\"> Remove columns from table </h2>"
   ],
   "metadata": {
    "collapsed": false
   },
   "id": "19be5602cf893680"
  },
  {
   "cell_type": "code",
   "execution_count": 163,
   "outputs": [
    {
     "data": {
      "text/plain": "    FirstName   LastName  Assignment  Test  Presence  Final Grade\n0  firstname1  lastname1         4.0  90.0      31.0        157.0\n1  firstname2  lastname2        41.0  32.0       3.0         77.0\n2  firstname3  lastname3        41.0  32.0       2.0         76.0",
      "text/html": "<div>\n<style scoped>\n    .dataframe tbody tr th:only-of-type {\n        vertical-align: middle;\n    }\n\n    .dataframe tbody tr th {\n        vertical-align: top;\n    }\n\n    .dataframe thead th {\n        text-align: right;\n    }\n</style>\n<table border=\"1\" class=\"dataframe\">\n  <thead>\n    <tr style=\"text-align: right;\">\n      <th></th>\n      <th>FirstName</th>\n      <th>LastName</th>\n      <th>Assignment</th>\n      <th>Test</th>\n      <th>Presence</th>\n      <th>Final Grade</th>\n    </tr>\n  </thead>\n  <tbody>\n    <tr>\n      <th>0</th>\n      <td>firstname1</td>\n      <td>lastname1</td>\n      <td>4.0</td>\n      <td>90.0</td>\n      <td>31.0</td>\n      <td>157.0</td>\n    </tr>\n    <tr>\n      <th>1</th>\n      <td>firstname2</td>\n      <td>lastname2</td>\n      <td>41.0</td>\n      <td>32.0</td>\n      <td>3.0</td>\n      <td>77.0</td>\n    </tr>\n    <tr>\n      <th>2</th>\n      <td>firstname3</td>\n      <td>lastname3</td>\n      <td>41.0</td>\n      <td>32.0</td>\n      <td>2.0</td>\n      <td>76.0</td>\n    </tr>\n  </tbody>\n</table>\n</div>"
     },
     "execution_count": 163,
     "metadata": {},
     "output_type": "execute_result"
    }
   ],
   "source": [
    "# inputs from the user\n",
    "columnToRemove = input(\"Type which category to remove:\")\n",
    "\n",
    "# remove the column\n",
    "df.drop(columnToRemove, axis=1, inplace=True)\n",
    "dct.pop(columnToRemove)\n",
    "\n",
    "# print it\n",
    "df"
   ],
   "metadata": {
    "collapsed": false,
    "ExecuteTime": {
     "end_time": "2023-11-11T22:38:42.923391484Z",
     "start_time": "2023-11-11T22:38:39.579752985Z"
    }
   },
   "id": "8081a0898a4632cd"
  },
  {
   "cell_type": "markdown",
   "source": [
    "<h2 color=\"green\"> Remove rows from table </h2>"
   ],
   "metadata": {
    "collapsed": false
   },
   "id": "a02c63e7398e8ccc"
  },
  {
   "cell_type": "code",
   "execution_count": 164,
   "outputs": [
    {
     "data": {
      "text/plain": "    FirstName   LastName  Assignment  Test  Presence  Final Grade\n0  firstname1  lastname1         4.0  90.0      31.0        157.0\n2  firstname3  lastname3        41.0  32.0       2.0         76.0",
      "text/html": "<div>\n<style scoped>\n    .dataframe tbody tr th:only-of-type {\n        vertical-align: middle;\n    }\n\n    .dataframe tbody tr th {\n        vertical-align: top;\n    }\n\n    .dataframe thead th {\n        text-align: right;\n    }\n</style>\n<table border=\"1\" class=\"dataframe\">\n  <thead>\n    <tr style=\"text-align: right;\">\n      <th></th>\n      <th>FirstName</th>\n      <th>LastName</th>\n      <th>Assignment</th>\n      <th>Test</th>\n      <th>Presence</th>\n      <th>Final Grade</th>\n    </tr>\n  </thead>\n  <tbody>\n    <tr>\n      <th>0</th>\n      <td>firstname1</td>\n      <td>lastname1</td>\n      <td>4.0</td>\n      <td>90.0</td>\n      <td>31.0</td>\n      <td>157.0</td>\n    </tr>\n    <tr>\n      <th>2</th>\n      <td>firstname3</td>\n      <td>lastname3</td>\n      <td>41.0</td>\n      <td>32.0</td>\n      <td>2.0</td>\n      <td>76.0</td>\n    </tr>\n  </tbody>\n</table>\n</div>"
     },
     "execution_count": 164,
     "metadata": {},
     "output_type": "execute_result"
    }
   ],
   "source": [
    "# inputs from the user\n",
    "firstNameToRemove = input(\"First Name of your student:\")\n",
    "lastNameToRemove = input(\"Last Name of your student:\")\n",
    "\n",
    "# remove the specified row\n",
    "mask = (df['FirstName'] == firstNameToRemove) & (df['LastName'] == lastNameToRemove)\n",
    "df = df[~mask]\n",
    "df"
   ],
   "metadata": {
    "collapsed": false,
    "ExecuteTime": {
     "end_time": "2023-11-11T22:38:50.059274040Z",
     "start_time": "2023-11-11T22:38:42.902995073Z"
    }
   },
   "id": "6b6227230afc0887"
  }
 ],
 "metadata": {
  "kernelspec": {
   "display_name": "Python 3",
   "language": "python",
   "name": "python3"
  },
  "language_info": {
   "codemirror_mode": {
    "name": "ipython",
    "version": 2
   },
   "file_extension": ".py",
   "mimetype": "text/x-python",
   "name": "python",
   "nbconvert_exporter": "python",
   "pygments_lexer": "ipython2",
   "version": "2.7.6"
  }
 },
 "nbformat": 4,
 "nbformat_minor": 5
}
